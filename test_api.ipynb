{
 "cells": [
  {
   "cell_type": "code",
   "execution_count": 11,
   "id": "9a8f99b4",
   "metadata": {
    "ExecuteTime": {
     "end_time": "2025-02-26T13:17:11.669664Z",
     "start_time": "2025-02-26T13:17:05.245397Z"
    }
   },
   "outputs": [
    {
     "name": "stdout",
     "output_type": "stream",
     "text": [
      "Ответ: {'predicted_health': 'Poor'}\n",
      "Ответ: {'predicted_health': 'Good'}\n",
      "Ответ: {'predicted_health': 'Poor'}\n"
     ]
    }
   ],
   "source": [
    "import requests\n",
    "import pandas as pd\n",
    "import kagglehub\n",
    "\n",
    "path = kagglehub.dataset_download(\"new-york-city/ny-2015-street-tree-census-tree-data\")\n",
    "df = pd.read_csv(path + '/2015-street-tree-census-tree-data.csv')\n",
    "\n",
    "url = \"http://localhost:8000/tree_health_prediction/\"\n",
    "\n",
    "data = df[df['health'] == 'Poor'].sample(n=3)\n",
    "\n",
    "for _, row in data.iterrows():\n",
    "    response = requests.get(url, json=row.to_dict())\n",
    "    if response.status_code == 200:\n",
    "        print(\"Ответ:\", response.json())\n",
    "    else:\n",
    "        print(\"Ошибка:\", response.status_code, response.text)"
   ]
  },
  {
   "cell_type": "code",
   "execution_count": null,
   "id": "a69748e6",
   "metadata": {},
   "outputs": [],
   "source": []
  }
 ],
 "metadata": {
  "kernelspec": {
   "display_name": "Python 3 (ipykernel)",
   "language": "python",
   "name": "python3"
  },
  "language_info": {
   "codemirror_mode": {
    "name": "ipython",
    "version": 3
   },
   "file_extension": ".py",
   "mimetype": "text/x-python",
   "name": "python",
   "nbconvert_exporter": "python",
   "pygments_lexer": "ipython3",
   "version": "3.9.13"
  },
  "toc": {
   "base_numbering": 1,
   "nav_menu": {},
   "number_sections": false,
   "sideBar": true,
   "skip_h1_title": false,
   "title_cell": "Table of Contents",
   "title_sidebar": "Contents",
   "toc_cell": false,
   "toc_position": {},
   "toc_section_display": true,
   "toc_window_display": false
  },
  "varInspector": {
   "cols": {
    "lenName": 16,
    "lenType": 16,
    "lenVar": 40
   },
   "kernels_config": {
    "python": {
     "delete_cmd_postfix": "",
     "delete_cmd_prefix": "del ",
     "library": "var_list.py",
     "varRefreshCmd": "print(var_dic_list())"
    },
    "r": {
     "delete_cmd_postfix": ") ",
     "delete_cmd_prefix": "rm(",
     "library": "var_list.r",
     "varRefreshCmd": "cat(var_dic_list()) "
    }
   },
   "types_to_exclude": [
    "module",
    "function",
    "builtin_function_or_method",
    "instance",
    "_Feature"
   ],
   "window_display": false
  }
 },
 "nbformat": 4,
 "nbformat_minor": 5
}
